{
  "nbformat": 4,
  "nbformat_minor": 0,
  "metadata": {
    "colab": {
      "provenance": []
    },
    "kernelspec": {
      "name": "python3",
      "display_name": "Python 3"
    },
    "language_info": {
      "name": "python"
    }
  },
  "cells": [
    {
      "cell_type": "code",
      "execution_count": 1,
      "metadata": {
        "colab": {
          "base_uri": "https://localhost:8080/"
        },
        "id": "qSxUyevYw9Us",
        "outputId": "76535038-708e-4596-e3bb-bd8ab7df8276"
      },
      "outputs": [
        {
          "output_type": "stream",
          "name": "stdout",
          "text": [
            "未成年です\n"
          ]
        }
      ],
      "source": [
        "'''\n",
        "名前(name)と年齢(age)の属性を持つHumanクラスを作成してください。\n",
        "\n",
        "Humanクラスには、以下の条件で標準出力(print)するcheck_adultメソッドを追加してください。\n",
        "\n",
        "ageが20以上の場合に大人であること\n",
        "そうでない場合に大人でないこと\n",
        "Humanクラスのインスタンスを複数生成してリストに追加し、リストの要素数分だけcheck_adultメソッドを呼び出してください。\n",
        "'''\n",
        "#名前と年齢の設定\n",
        "Set_name=\"あんこ\"\n",
        "Set_age=2\n",
        "\n",
        "#クラス定義\n",
        "class Human:\n",
        "  def __init__(self,name,age):\n",
        "    self.name=name\n",
        "    self.age=age\n",
        "\n",
        "  def check_adult(self):#年齢チェックメソッド\n",
        "    if self.age>=20:\n",
        "      print(\"成人です\")\n",
        "    else:\n",
        "      print(\"未成年です\")\n",
        "\n",
        "#インスタンス化\n",
        "human=Human(Set_name,Set_age)\n",
        "\n",
        "#関数呼び出し\n",
        "human.check_adult()"
      ]
    }
  ]
}