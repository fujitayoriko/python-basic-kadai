{
  "nbformat": 4,
  "nbformat_minor": 0,
  "metadata": {
    "colab": {
      "provenance": []
    },
    "kernelspec": {
      "name": "python3",
      "display_name": "Python 3"
    },
    "language_info": {
      "name": "python"
    }
  },
  "cells": [
    {
      "cell_type": "code",
      "execution_count": 2,
      "metadata": {
        "colab": {
          "base_uri": "https://localhost:8080/"
        },
        "id": "qSxUyevYw9Us",
        "outputId": "b7fb6b9a-c552-42e6-f471-29f9d83575f6"
      },
      "outputs": [
        {
          "output_type": "stream",
          "name": "stdout",
          "text": [
            "あんこさんは未成年です\n",
            "あやかさんは未成年です\n",
            "よりこさんは成人です\n",
            "のりおさんは成人です\n",
            "まりさんは成人です\n"
          ]
        }
      ],
      "source": [
        "'''\n",
        "名前(name)と年齢(age)の属性を持つHumanクラスを作成してください。\n",
        "\n",
        "Humanクラスには、以下の条件で標準出力(print)するcheck_adultメソッドを追加してください。\n",
        "\n",
        "ageが20以上の場合に大人であること\n",
        "そうでない場合に大人でないこと\n",
        "Humanクラスのインスタンスを複数生成してリストに追加し、リストの要素数分だけcheck_adultメソッドを呼び出してください。\n",
        "'''\n",
        "\n",
        "#クラス定義\n",
        "class Human:\n",
        "  def __init__(self,name,age):\n",
        "    self.name=name\n",
        "    self.age=age\n",
        "\n",
        "  def check_adult(self):#年齢チェックメソッド\n",
        "    if self.age>=20:\n",
        "      print(f\"{self.name}さんは成人です\")\n",
        "    else:\n",
        "      print(f\"{self.name}さんは未成年です\")\n",
        "\n",
        "#Set_name_agesリストにインスタンス格納\n",
        "Set_name_ages=[\n",
        "    Human(\"あんこ\",2),\n",
        "    Human(\"あやか\",7),\n",
        "    Human(\"よりこ\",43),\n",
        "    Human(\"のりお\",52),\n",
        "    Human(\"まり\",20)\n",
        "]\n",
        "\n",
        "#check_adultメソッド\n",
        "for Set_name_age in Set_name_ages:\n",
        "  Set_name_age.check_adult()"
      ]
    }
  ]
}