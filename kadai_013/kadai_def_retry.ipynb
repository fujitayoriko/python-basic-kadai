{
  "nbformat": 4,
  "nbformat_minor": 0,
  "metadata": {
    "colab": {
      "provenance": []
    },
    "kernelspec": {
      "name": "python3",
      "display_name": "Python 3"
    },
    "language_info": {
      "name": "python"
    }
  },
  "cells": [
    {
      "cell_type": "code",
      "execution_count": null,
      "metadata": {
        "colab": {
          "base_uri": "https://localhost:8080/"
        },
        "id": "yPjQU2OTsUoC",
        "outputId": "a458c19f-6f73-4107-eab5-736cf2b882ec"
      },
      "outputs": [
        {
          "output_type": "stream",
          "name": "stdout",
          "text": [
            "商品の税込み価格は1650円です\n"
          ]
        }
      ],
      "source": [
        "'''\n",
        "商品を購入して、消費税を加えた計算結果を返す関数を記述してください。\n",
        "第1引数に商品の金額、第2引数に消費税（10%）を設定できるようにしてください\n",
        "'''\n",
        "\n",
        "#商品金額と消費税の設定\n",
        "product_price=1500\n",
        "consumption_tax=10\n",
        "\n",
        "#税込み計算関数\n",
        "def calcualte_total(price,tax):\n",
        "  total=price*(1+tax/100)\n",
        "\n",
        "  print(f\"商品の税込み価格は{int(total)}円です\")\n",
        "\n",
        "#関数呼び出し\n",
        "calcualte_total(product_price,consumption_tax)"
      ]
    },
    {
      "cell_type": "code",
      "source": [
        "user_name=\"侍花子\"\n",
        "def show_user_name():\n",
        "  #ローカル変数を定義\n",
        "  user_name=\"侍太郎\"\n",
        "\n",
        "  #ローカルスコープの範囲内でローカル変数を使う\n",
        "  print(user_name)\n",
        "\n",
        "show_user_name()\n",
        "\n",
        "#ローカルスコープ外でローカル変数を使う\n",
        "print(user_name)"
      ],
      "metadata": {
        "colab": {
          "base_uri": "https://localhost:8080/"
        },
        "id": "hLFJWlDQuP4l",
        "outputId": "06b7bcfb-01d8-49db-c18c-4fda2f9aae37"
      },
      "execution_count": null,
      "outputs": [
        {
          "output_type": "stream",
          "name": "stdout",
          "text": [
            "侍太郎\n",
            "侍花子\n"
          ]
        }
      ]
    },
    {
      "cell_type": "code",
      "source": [
        "#グローバル変数を定義\n",
        "user_name=\"侍花子\"\n",
        "\n",
        "def show_user_name():\n",
        "  #ローカル変数\n",
        "  user_name=\"侍太郎\"\n",
        "  print(user_name)\n",
        "\n",
        "show_user_name()\n",
        "\n",
        "print(user_name)"
      ],
      "metadata": {
        "colab": {
          "base_uri": "https://localhost:8080/"
        },
        "id": "ELng0AS7vq4B",
        "outputId": "0e734cf4-8b42-4476-d37e-642719bed6c4"
      },
      "execution_count": null,
      "outputs": [
        {
          "output_type": "stream",
          "name": "stdout",
          "text": [
            "侍太郎\n",
            "侍花子\n"
          ]
        }
      ]
    },
    {
      "cell_type": "code",
      "source": [
        "'''\n",
        "以下のコードを実行するとスコープに関するエラーが発生します。\n",
        "エラーを修正して、正しく計算結果が出力されるようにしてください。\n",
        "'''\n",
        "\n",
        "price1 = 100\n",
        "price2 = 200\n",
        "tax = 1.1     #taxはグローバル変数にしないとエラーになる\n",
        "\n",
        "def total():\n",
        "    return price1 + price2\n",
        "\n",
        "print (total() * tax)\n"
      ],
      "metadata": {
        "colab": {
          "base_uri": "https://localhost:8080/"
        },
        "id": "8KDC-ZfXx-Ae",
        "outputId": "6eb09886-8ac6-4928-901c-b3cd22ca2d50"
      },
      "execution_count": null,
      "outputs": [
        {
          "output_type": "stream",
          "name": "stdout",
          "text": [
            "330.0\n"
          ]
        }
      ]
    },
    {
      "cell_type": "code",
      "source": [
        "price1 = 100\n",
        "price2 = 200\n",
        "tax1 = 1.1\n",
        "\n",
        "def total():\n",
        "    #tax1 = 1.1\n",
        "    return price1 + price2\n",
        "\n",
        "print (total() * tax1)"
      ],
      "metadata": {
        "colab": {
          "base_uri": "https://localhost:8080/"
        },
        "id": "qdhQydk8y1eH",
        "outputId": "6553ac8f-fde6-437f-b364-3c70a7b72757"
      },
      "execution_count": null,
      "outputs": [
        {
          "output_type": "stream",
          "name": "stdout",
          "text": [
            "330.0\n"
          ]
        }
      ]
    }
  ]
}