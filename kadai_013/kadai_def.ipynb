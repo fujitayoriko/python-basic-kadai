{
  "nbformat": 4,
  "nbformat_minor": 0,
  "metadata": {
    "colab": {
      "provenance": []
    },
    "kernelspec": {
      "name": "python3",
      "display_name": "Python 3"
    },
    "language_info": {
      "name": "python"
    }
  },
  "cells": [
    {
      "cell_type": "code",
      "execution_count": 1,
      "metadata": {
        "colab": {
          "base_uri": "https://localhost:8080/"
        },
        "id": "yPjQU2OTsUoC",
        "outputId": "bb09eb8e-d9cc-4198-9e65-b959347f6f17"
      },
      "outputs": [
        {
          "output_type": "stream",
          "name": "stdout",
          "text": [
            "商品の税込み価格は1650円です\n"
          ]
        }
      ],
      "source": [
        "'''\n",
        "商品を購入して、消費税を加えた計算結果を返す関数を記述してください。\n",
        "第1引数に商品の金額、第2引数に消費税（10%）を設定できるようにしてください\n",
        "'''\n",
        "\n",
        "#商品金額と消費税の設定\n",
        "product_price=1500\n",
        "consumption_tax=0.1\n",
        "\n",
        "#税込み計算関数\n",
        "def calcualte_total(price,tax):\n",
        "  total=price*(1+tax)\n",
        "\n",
        "  print(f\"商品の税込み価格は{int(total)}円です\")\n",
        "\n",
        "#関数呼び出し\n",
        "calcualte_total(product_price,consumption_tax)"
      ]
    }
  ]
}