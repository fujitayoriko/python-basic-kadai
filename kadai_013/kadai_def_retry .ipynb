{
  "nbformat": 4,
  "nbformat_minor": 0,
  "metadata": {
    "colab": {
      "provenance": []
    },
    "kernelspec": {
      "name": "python3",
      "display_name": "Python 3"
    },
    "language_info": {
      "name": "python"
    }
  },
  "cells": [
    {
      "cell_type": "code",
      "execution_count": 1,
      "metadata": {
        "colab": {
          "base_uri": "https://localhost:8080/"
        },
        "id": "OHf8f5zx23pL",
        "outputId": "4ec81f03-7b40-4c5e-f792-d606c9c044d0"
      },
      "outputs": [
        {
          "output_type": "stream",
          "name": "stdout",
          "text": [
            "商品の税込み価格は1650円です\n"
          ]
        }
      ],
      "source": [
        "'''\n",
        "商品を購入して、消費税を加えた計算結果を返す関数を記述してください。\n",
        "第1引数に商品の金額、第2引数に消費税（10%）を設定できるようにしてください\n",
        "'''\n",
        "\n",
        "#商品金額と消費税の設定\n",
        "product_price=1500\n",
        "consumption_tax=10\n",
        "\n",
        "#税込み計算関数\n",
        "def calcualte_total(price,tax):\n",
        "  total=price*(1+tax/100)\n",
        "\n",
        "  print(f\"商品の税込み価格は{int(total)}円です\")\n",
        "\n",
        "#関数呼び出し\n",
        "calcualte_total(product_price,consumption_tax)"
      ]
    }
  ]
}