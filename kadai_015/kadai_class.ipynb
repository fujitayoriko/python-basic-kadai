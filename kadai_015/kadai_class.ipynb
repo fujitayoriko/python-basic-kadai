{
  "nbformat": 4,
  "nbformat_minor": 0,
  "metadata": {
    "colab": {
      "provenance": []
    },
    "kernelspec": {
      "name": "python3",
      "display_name": "Python 3"
    },
    "language_info": {
      "name": "python"
    }
  },
  "cells": [
    {
      "cell_type": "code",
      "execution_count": 1,
      "metadata": {
        "colab": {
          "base_uri": "https://localhost:8080/"
        },
        "id": "4GQr2AJZPoMr",
        "outputId": "62474422-ebfa-4713-9d84-b42278cf68d6"
      },
      "outputs": [
        {
          "output_type": "stream",
          "name": "stdout",
          "text": [
            "あんこ\n",
            "2\n"
          ]
        }
      ],
      "source": [
        "'''\n",
        "名前(name)と年齢(age)の属性を持つHumanクラスを作成してください。\n",
        "nameとageを標準出力(print)するメソッド(printinfo)を追加してください。\n",
        "\n",
        "Humanクラスのインスタンスは、変数に代入してプログラム内で使用してください。\n",
        "'''\n",
        "#クラスの定義\n",
        "class Human:\n",
        "  def __init__(self,name,age):\n",
        "    self.name=name\n",
        "    self.age=age\n",
        "\n",
        "  #メソッド定義\n",
        "  def printinfo(self):\n",
        "    print(self.name)\n",
        "    print(self.age)\n",
        "\n",
        "#インスタンス化\n",
        "human=Human(\"あんこ\",\"2\")\n",
        "\n",
        "#printinfoメソッドを使って名前と年齢を出力\n",
        "human.printinfo()"
      ]
    }
  ]
}