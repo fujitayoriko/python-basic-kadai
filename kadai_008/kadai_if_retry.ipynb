{
  "nbformat": 4,
  "nbformat_minor": 0,
  "metadata": {
    "colab": {
      "provenance": []
    },
    "kernelspec": {
      "name": "python3",
      "display_name": "Python 3"
    },
    "language_info": {
      "name": "python"
    }
  },
  "cells": [
    {
      "cell_type": "code",
      "execution_count": 30,
      "metadata": {
        "colab": {
          "base_uri": "https://localhost:8080/"
        },
        "id": "tkac-M6CrsUM",
        "outputId": "25396744-6c3d-423e-83ba-f48157b97cdf"
      },
      "outputs": [
        {
          "output_type": "stream",
          "name": "stdout",
          "text": [
            "5\n",
            "Buzz\n"
          ]
        }
      ],
      "source": [
        "'''\n",
        "課題\n",
        "変数varが3の倍数の場合はFizz、5の倍数の場合はBuzz、\n",
        "3と5の倍数の場合はFizzBuzz、\n",
        "それ以外の場合は変数varを出力する条件式を記述してください。\n",
        "ただし、変数varは正の整数とします。\n",
        "'''\n",
        "\n",
        "import random\n",
        "#0～100の乱数を格納\n",
        "var=random.randint(0,100)\n",
        "#変数の値を確認\n",
        "print(var)\n",
        "\n",
        "if var%3==0 and var%5==0: #3と5の倍数のとき\n",
        "  print(\"FizzBuzz\")\n",
        "elif var%3==0:            #3の倍数のとき\n",
        "  print(\"Fizz\")\n",
        "elif var%5==0:            #5の倍数のとき\n",
        "  print(\"Buzz\")\n",
        "else:                     #どちらでもないとき\n",
        "  print(var)"
      ]
    }
  ]
}