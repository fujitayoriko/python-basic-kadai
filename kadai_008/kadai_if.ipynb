{
  "nbformat": 4,
  "nbformat_minor": 0,
  "metadata": {
    "colab": {
      "provenance": []
    },
    "kernelspec": {
      "name": "python3",
      "display_name": "Python 3"
    },
    "language_info": {
      "name": "python"
    }
  },
  "cells": [
    {
      "cell_type": "code",
      "execution_count": 1,
      "metadata": {
        "colab": {
          "base_uri": "https://localhost:8080/"
        },
        "id": "tkac-M6CrsUM",
        "outputId": "73561bc2-d1ae-45e3-e1d5-96092ac0a260"
      },
      "outputs": [
        {
          "output_type": "stream",
          "name": "stdout",
          "text": [
            "52\n",
            "52\n"
          ]
        }
      ],
      "source": [
        "'''\n",
        "課題\n",
        "変数varが3の倍数の場合はFizz、5の倍数の場合はBuzz、\n",
        "3と5の倍数の場合はFizzBuzz、\n",
        "それ以外の場合は変数varを出力する条件式を記述してください。\n",
        "ただし、変数varは正の整数とします。\n",
        "'''\n",
        "\n",
        "import random\n",
        "#0～100の乱数を格納\n",
        "var=random.randint(0,100)\n",
        "#変数の値を確認\n",
        "print(var)\n",
        "\n",
        "if var%3==0:    #3の倍数のとき\n",
        "  print(\"Fizz\")\n",
        "elif var%5==0:  #5の倍数のとき\n",
        "  print(\"FizzBuzz\")\n",
        "else:           #どちらでもないとき\n",
        "  print(var)"
      ]
    }
  ]
}