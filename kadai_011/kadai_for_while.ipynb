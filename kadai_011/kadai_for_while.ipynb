{
  "nbformat": 4,
  "nbformat_minor": 0,
  "metadata": {
    "colab": {
      "provenance": []
    },
    "kernelspec": {
      "name": "python3",
      "display_name": "Python 3"
    },
    "language_info": {
      "name": "python"
    }
  },
  "cells": [
    {
      "cell_type": "code",
      "execution_count": 1,
      "metadata": {
        "colab": {
          "base_uri": "https://localhost:8080/"
        },
        "id": "93R3mBrS0XZ4",
        "outputId": "3db40f91-f586-4ca4-885b-7a463287fb2c"
      },
      "outputs": [
        {
          "output_type": "stream",
          "name": "stdout",
          "text": [
            "水\n",
            "金\n",
            "地\n",
            "火\n",
            "木\n",
            "土\n",
            "天\n",
            "海\n",
            "冥\n",
            "水\n",
            "金\n",
            "地\n",
            "火\n",
            "木\n",
            "土\n",
            "天\n",
            "海\n",
            "冥\n"
          ]
        }
      ],
      "source": [
        "'''\n",
        "【課題】\n",
        "リストの中身を先頭から全て取り出して、\n",
        "出力結果が以下のようになるプログラムを、for、while、それぞれを利用して記述して下さい。\n",
        "'''\n",
        "\n",
        "list = [\"水\",\"金\",\"地\",\"火\",\"木\",\"土\",\"天\",\"海\",\"冥\"]\n",
        "\n",
        "#カウントの初期化\n",
        "cnt=1\n",
        "\n",
        "while cnt<3:#2回出力する\n",
        "\n",
        "  for value in list:#listから値を出力\n",
        "    print(value)\n",
        "\n",
        "  cnt=cnt+1#cntを加算"
      ]
    }
  ]
}