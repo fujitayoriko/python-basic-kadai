{
  "nbformat": 4,
  "nbformat_minor": 0,
  "metadata": {
    "colab": {
      "provenance": []
    },
    "kernelspec": {
      "name": "python3",
      "display_name": "Python 3"
    },
    "language_info": {
      "name": "python"
    }
  },
  "cells": [
    {
      "cell_type": "code",
      "execution_count": 1,
      "metadata": {
        "colab": {
          "base_uri": "https://localhost:8080/"
        },
        "id": "cMGLeuuKzRWP",
        "outputId": "8a885ef6-549e-43ed-aa8b-93206930c54e"
      },
      "outputs": [
        {
          "output_type": "stream",
          "name": "stdout",
          "text": [
            "330.0\n"
          ]
        }
      ],
      "source": [
        "'''\n",
        "以下のコードを実行するとスコープに関するエラーが発生します。\n",
        "エラーを修正して、正しく計算結果が出力されるようにしてください。\n",
        "'''\n",
        "\n",
        "price1 = 100\n",
        "price2 = 200\n",
        "tax = 1.1     #taxはグローバル変数にしないとエラーになる\n",
        "\n",
        "def total():\n",
        "    return price1 + price2\n",
        "\n",
        "print (total() * tax)"
      ]
    }
  ]
}